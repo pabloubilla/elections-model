{
 "cells": [
  {
   "cell_type": "code",
   "execution_count": 1,
   "metadata": {},
   "outputs": [],
   "source": [
    "import pickle\n",
    "import json\n",
    "import numpy as np\n",
    "import pandas as pd"
   ]
  },
  {
   "cell_type": "markdown",
   "metadata": {},
   "source": [
    "# Read Instances"
   ]
  },
  {
   "cell_type": "code",
   "execution_count": 2,
   "metadata": {},
   "outputs": [],
   "source": [
    "J_list = [100] # personas\n",
    "M_list = [50] # mesas\n",
    "G_list = [2,3,4] # grupos\n",
    "I_list = [2,3,5,10] # candidatos \n",
    "lambda_list = [0.5]\n",
    "seed_list = [i+1 for i in range(20)]\n",
    "# seed_list = [i+1 for i in range(20)]\n",
    "\n",
    "instances = []\n",
    "n_instances = len(J_list)*len(M_list)*len(G_list)*len(I_list)*len(seed_list)\n",
    "EM_method_names = [\"full\", \"simulate_100\", \"simulate_1000\", \"cdf\", \"pdf\", \"mult\"]\n",
    "\n"
   ]
  },
  {
   "cell_type": "code",
   "execution_count": 3,
   "metadata": {},
   "outputs": [],
   "source": [
    "df_list = []\n",
    "for J in J_list:\n",
    "    for M in M_list:\n",
    "        for G in G_list:\n",
    "            for I in I_list:\n",
    "                for lambda_ in lambda_list:\n",
    "                        for method in EM_method_names:\n",
    "                            for seed in seed_list:\n",
    "                                pickle_path = f'results/J{J}_M{M}_G{G}_I{I}_lambda{int(100*lambda_)}/{method}_cv1000/{seed}.pickle'\n",
    "                                # check if path exists\n",
    "                                try:\n",
    "                                    with open(pickle_path, 'rb') as f:\n",
    "                                        data = pickle.load(f)\n",
    "                                    p = data['p']\n",
    "                                    p_est = data['p_est']\n",
    "                                    mean_error = np.mean(np.abs(p-p_est))\n",
    "                                    max_error = np.max(np.abs(p-p_est))\n",
    "                                    time = data['time']\n",
    "                                    # print(J,M,G,I,lambda_,method,seed)\n",
    "                                    if (J == 200) & (M == 50) & (G == 4) & (I == 2) & (lambda_ == 0.5) & (seed == 12):\n",
    "                                        print(method, mean_error)\n",
    "                                        # break\n",
    "                                    if 'simulate' in method:\n",
    "                                        simulate_time = data['simulation_time']\n",
    "                                    else:\n",
    "                                        simulate_time = np.nan\n",
    "                                    iter = data['iterations']\n",
    "                                    end = data['end']\n",
    "                                    df_list.append([J,M,G,I,lambda_,method,seed,time,simulate_time,iter,end,mean_error,max_error])\n",
    "                                except:\n",
    "                                    print(f'Error in {pickle_path}')\n",
    "                                    continue\n",
    "\n",
    "# pd.DataFrame(df_list, columns=['J','M','G','I','lambda','method','seed','time','simulate_time','iter','end','mean_error','max_error']).to_csv('results/results.csv')\n",
    "df = pd.DataFrame(df_list, columns=['J','M','G','I','lambda','method','seed','time','simulate_time','iter','end','mean_error','max_error'])                                  "
   ]
  },
  {
   "cell_type": "code",
   "execution_count": 105,
   "metadata": {},
   "outputs": [
    {
     "data": {
      "text/plain": [
       "472.984171628952"
      ]
     },
     "execution_count": 105,
     "metadata": {},
     "output_type": "execute_result"
    }
   ],
   "source": [
    "df[(df['method'] == 'simulate_1000') & (df['I'] == 10)]['simulate_time'].min()"
   ]
  },
  {
   "cell_type": "code",
   "execution_count": 40,
   "metadata": {},
   "outputs": [],
   "source": [
    "# open pickle\n",
    "# with open('results/J200_M50_G4_I2_lambda50/cdf/2.pickle', 'rb') as handle:\n",
    "#     data = pickle.load(handle)\n",
    "# print(data['mean error'])\n",
    "# print(data['p'])\n",
    "# # print('----')\n",
    "# with open('results/J200_M50_G4_I2_lambda50/cdf/12_v2.pickle', 'rb') as handle:\n",
    "#     data = pickle.load(handle)\n",
    "# print(data['p_est'])\n",
    "# print(data['p'])"
   ]
  },
  {
   "cell_type": "code",
   "execution_count": 41,
   "metadata": {},
   "outputs": [],
   "source": [
    "# grab today date\n",
    "\n",
    "# df.to_csv('results_28_07_2023.csv')"
   ]
  },
  {
   "cell_type": "markdown",
   "metadata": {},
   "source": [
    "# Make Tables"
   ]
  },
  {
   "cell_type": "code",
   "execution_count": 16,
   "metadata": {},
   "outputs": [
    {
     "data": {
      "text/html": [
       "<div>\n",
       "<style scoped>\n",
       "    .dataframe tbody tr th:only-of-type {\n",
       "        vertical-align: middle;\n",
       "    }\n",
       "\n",
       "    .dataframe tbody tr th {\n",
       "        vertical-align: top;\n",
       "    }\n",
       "\n",
       "    .dataframe thead th {\n",
       "        text-align: right;\n",
       "    }\n",
       "</style>\n",
       "<table border=\"1\" class=\"dataframe\">\n",
       "  <thead>\n",
       "    <tr style=\"text-align: right;\">\n",
       "      <th></th>\n",
       "      <th>J</th>\n",
       "      <th>M</th>\n",
       "      <th>G</th>\n",
       "      <th>I</th>\n",
       "      <th>lambda</th>\n",
       "      <th>method</th>\n",
       "      <th>seed</th>\n",
       "      <th>time</th>\n",
       "      <th>simulate_time</th>\n",
       "      <th>iter</th>\n",
       "      <th>end</th>\n",
       "      <th>mean_error</th>\n",
       "      <th>max_error</th>\n",
       "    </tr>\n",
       "  </thead>\n",
       "  <tbody>\n",
       "  </tbody>\n",
       "</table>\n",
       "</div>"
      ],
      "text/plain": [
       "Empty DataFrame\n",
       "Columns: [J, M, G, I, lambda, method, seed, time, simulate_time, iter, end, mean_error, max_error]\n",
       "Index: []"
      ]
     },
     "execution_count": 16,
     "metadata": {},
     "output_type": "execute_result"
    }
   ],
   "source": [
    "# rows where error is nan\n",
    "\n",
    "# df_nan = df[df['max_error'].isna()]\n",
    "# df_nan"
   ]
  },
  {
   "cell_type": "code",
   "execution_count": 42,
   "metadata": {},
   "outputs": [
    {
     "data": {
      "text/plain": [
       "array(['cdf', 'pdf', 'simulate_100', 'simulate_1000', 'simulate_500'],\n",
       "      dtype=object)"
      ]
     },
     "execution_count": 42,
     "metadata": {},
     "output_type": "execute_result"
    }
   ],
   "source": [
    "# df[df['end'] == 2]['method'].unique()"
   ]
  },
  {
   "cell_type": "code",
   "execution_count": 37,
   "metadata": {},
   "outputs": [],
   "source": [
    "# def transform_seconds_to_time(seconds):\n",
    "#     if seconds < 1:\n",
    "#         return f'{np.round(seconds*1000)} ms'\n",
    "#     if seconds > 60:\n",
    "#         return f'{np.round(seconds/60)} min'\n",
    "#     else:\n",
    "#         return f'{np.round(seconds)} sec'\n"
   ]
  },
  {
   "cell_type": "code",
   "execution_count": 4,
   "metadata": {},
   "outputs": [],
   "source": [
    "# choose method order\n",
    "method_order = ['full', 'simulate_100', 'simulate_1000', 'cdf', 'pdf', 'mult']"
   ]
  },
  {
   "cell_type": "code",
   "execution_count": 63,
   "metadata": {},
   "outputs": [],
   "source": [
    "# Check what happens when it does not end\n",
    "\n",
    "# df_time = df.groupby(['J','M','G','I','end','method']).mean().reset_index().pivot(index=['J','M','G','I', 'end'], columns='method', values='time').reset_index()\n",
    "# df_time"
   ]
  },
  {
   "cell_type": "markdown",
   "metadata": {},
   "source": [
    "## Time\n"
   ]
  },
  {
   "cell_type": "code",
   "execution_count": 5,
   "metadata": {},
   "outputs": [],
   "source": [
    "# replace time for nan if end = -1 \n",
    "df.loc[df['end'] == -1, 'time'] = np.nan\n",
    "df['total_time'] = df['time'] + df['simulate_time'].fillna(0)"
   ]
  },
  {
   "cell_type": "code",
   "execution_count": 6,
   "metadata": {},
   "outputs": [
    {
     "name": "stdout",
     "output_type": "stream",
     "text": [
      "\\begin{tabular}{cccccccccc}\n",
      "\\toprule\n",
      "C & G & empty1 & full & simulate_100 & simulate_1000 & cdf & pdf & mult \\\\\n",
      "\\midrule\n",
      "2 & 2 &  & 15.478 & 74.050 & 731.258 & 1.093 & 0.151 & 0.003 \\\\\n",
      " & 3 &  & 31.077 & 73.251 & 718.892 & 1.988 & 0.191 & 0.004 \\\\\n",
      " & 4 &  & 45.786 & 71.464 & 708.081 & 3.037 & 0.216 & 0.005 \\\\\n",
      "3 & 2 &  & 555.319 & 72.790 & 716.579 & 4.608 & 0.188 & 0.004 \\\\\n",
      " & 3 &  & 2,091.768 & 69.354 & 705.523 & 8.166 & 0.241 & 0.005 \\\\\n",
      " & 4 &  & 3,029.651 & 66.477 & 665.910 & 11.256 & 0.256 & 0.005 \\\\\n",
      "5 & 2 &  & {-} & 67.697 & 680.884 & 13.982 & 0.170 & 0.004 \\\\\n",
      " & 3 &  & {-} & 62.270 & 624.810 & 23.177 & 0.210 & 0.004 \\\\\n",
      " & 4 &  & {-} & 58.257 & 585.061 & 34.268 & 0.256 & 0.005 \\\\\n",
      "10 & 2 &  & {-} & 59.587 & 601.103 & 49.965 & 0.165 & 0.003 \\\\\n",
      " & 3 &  & {-} & 54.035 & 538.743 & 98.016 & 0.225 & 0.005 \\\\\n",
      " & 4 &  & {-} & 50.622 & 502.069 & 124.858 & 0.264 & 0.005 \\\\\n",
      "\\bottomrule\n",
      "\\end{tabular}\n",
      "\n"
     ]
    }
   ],
   "source": [
    "# grab the average time with J,M,G,I as row and method as column\n",
    "df_time = df.groupby(['J','M','G','I','method']).mean().reset_index().pivot(index=['J','M','G','I'], columns='method', values='total_time').reset_index()\n",
    "df_time[['J', 'M', 'G', 'I']] = df_time[['J', 'M', 'G', 'I']].astype(int)\n",
    "\n",
    "# round to 4 decimals for methods\n",
    "df_time[method_order] = df_time[method_order].round(3)\n",
    "df_time[method_order] = df_time[method_order].applymap(lambda x: \"{:.3f}\".format(x))\n",
    "\n",
    "# add separator for thousands and put between brackets for those that have a comma\n",
    "df_time[method_order] = df_time[method_order].applymap(lambda x: f'{float(x):,.3f}' if float(x) >= 1000 else x) #.replace(',', ' ')\n",
    "\n",
    "# display floats with 3 decimals even if they are 0'seed\n",
    "\n",
    "# put numbers with commas between brackets\n",
    "# df_time[method_order] = df_time[method_order].applymap(lambda x: f'{{{x}}}' if ',' in x else x)\n",
    "\n",
    "# replace 'nan' with '-' \n",
    "df_time = df_time.replace('nan', '{-}')\n",
    "\n",
    "\n",
    "\n",
    "# reorder columns\n",
    "J = 100\n",
    "df_time_latex = pd.DataFrame()\n",
    "# change order of columns and use english notation\n",
    "df_time_latex[['C', 'G'] + method_order] = df_time.loc[df_time['J'] == J, ['I', 'G'] + method_order]\n",
    "# sort by C and G\n",
    "df_time_latex = df_time_latex.sort_values(['C', 'G'])\n",
    "\n",
    "\n",
    "df_time_latex.loc[df_time_latex['C'].duplicated(),['C']] = ''\n",
    "\n",
    "# add empty columns between 'C' and methods\n",
    "df_time_latex.insert(2, 'empty1', '')\n",
    "\n",
    "# transform to latex\n",
    "print(df_time_latex.to_latex(index=False, escape=False, column_format='cccccccccc', float_format=\":.%4f\"))\n",
    "\n",
    "# # replace I by C\n",
    "# df_time['C'] = df_time['I']"
   ]
  },
  {
   "cell_type": "markdown",
   "metadata": {},
   "source": [
    "Simulation time\n"
   ]
  },
  {
   "cell_type": "code",
   "execution_count": 20,
   "metadata": {},
   "outputs": [
    {
     "name": "stdout",
     "output_type": "stream",
     "text": [
      "\\begin{tabular}{lrlllll}\n",
      "\\toprule\n",
      "C & G & empty1 & simulate_timesimulate_100 & timesimulate_100 & simulate_timesimulate_1000 & timesimulate_1000 \\\\\n",
      "\\midrule\n",
      "2 & 2 &  & 73.409 & 0.820 & 740.046 & 0.919 \\\\\n",
      " & 3 &  & 72.915 & 2.295 & 722.202 & 14.155 \\\\\n",
      " & 4 &  & 72.732 & 2.522 & 686.560 & 12.015 \\\\\n",
      "3 & 2 &  & 71.105 & 1.855 & 733.173 & 12.359 \\\\\n",
      " & 3 &  & 68.670 & 1.881 & 699.799 & 18.290 \\\\\n",
      " & 4 &  & 69.916 & 2.331 & 703.638 & 24.347 \\\\\n",
      "5 & 2 &  & 69.471 & 1.627 & 693.218 & 18.157 \\\\\n",
      " & 3 &  & 65.756 & 2.196 & 567.549 & 9.111 \\\\\n",
      " & 4 &  & 64.044 & 1.929 & 652.590 & 23.535 \\\\\n",
      "10 & 2 &  & 65.161 & 1.515 & 655.398 & 15.595 \\\\\n",
      " & 3 &  & 59.866 & 1.474 & 525.634 & 8.404 \\\\\n",
      " & 4 &  & 57.256 & 1.479 & 578.101 & 18.743 \\\\\n",
      "\\bottomrule\n",
      "\\end{tabular}\n",
      "\n"
     ]
    }
   ],
   "source": [
    "# method_order_sim = ['simulate_timesimulate_100', 'timesimulate_100', 'simulate_timesimulate_1000', 'timesimulate_1000']\n",
    "method_order_sim = ['simulate_timesimulate_100', 'timesimulate_100', 'simulate_timesimulate_1000', 'timesimulate_1000']\n",
    "\n",
    "\n",
    "# grab the average time with J,M,G,I as row and method as column\n",
    "df_sim = df.loc[df['method'].str.contains('simulate_1')].groupby(['J','M','G','I','method']).mean().reset_index().pivot(index=['J','M','G','I'], columns='method', values=['time', 'simulate_time']).reset_index()\n",
    "\n",
    "df_sim[['J', 'M', 'G', 'I']] = df_sim[['J', 'M', 'G', 'I']].astype(int)\n",
    "df_sim.columns = [f'{col[0]}{col[1]}' for col in df_sim.columns]\n",
    "\n",
    "# round to 4 decimals for methods\n",
    "df_sim[method_order_sim] = df_sim[method_order_sim].round(3)\n",
    "df_sim[method_order_sim] = df_sim[method_order_sim].applymap(lambda x: \"{:.3f}\".format(x))\n",
    "\n",
    "# add separator for thousands and put between brackets for those that have a comma\n",
    "df_sim[method_order_sim] = df_sim[method_order_sim].applymap(lambda x: f'{float(x):,.3f}' if float(x) >= 1000 else x) #.replace(',', ' ')\n",
    "\n",
    "# display floats with 3 decimals even if they are 0'seed\n",
    "\n",
    "# put numbers with commas between brackets\n",
    "# df_sim[method_order] = df_sim[method_order].applymap(lambda x: f'{{{x}}}' if ',' in x else x)\n",
    "\n",
    "# replace 'nan' with '-' \n",
    "df_sim = df_sim.replace('nan', '{-}')\n",
    "\n",
    "# reorder columns\n",
    "J = 100\n",
    "df_time_sim_latex = pd.DataFrame()\n",
    "\n",
    "# change order of columns and use english notation\n",
    "df_time_sim_latex[['C', 'G'] + method_order_sim] = df_sim.loc[df_sim['J'] == J, ['I', 'G'] + method_order_sim]\n",
    "# sort by C and G\n",
    "df_time_sim_latex = df_time_sim_latex.sort_values(['C', 'G'])\n",
    "\n",
    "\n",
    "df_time_sim_latex.loc[df_time_sim_latex['C'].duplicated(),['C']] = ''\n",
    "\n",
    "# add empty columns between 'C' and methods\n",
    "df_time_sim_latex.insert(2, 'empty1', '')\n",
    "\n",
    "# transform to latex\n",
    "print(df_time_sim_latex.to_latex(index=False, escape=False, float_format=\":.%4f\"))\n"
   ]
  },
  {
   "cell_type": "markdown",
   "metadata": {},
   "source": [
    "## Error"
   ]
  },
  {
   "cell_type": "code",
   "execution_count": 9,
   "metadata": {},
   "outputs": [],
   "source": [
    "df.loc[df['end'] == -1,'mean_error'] = np.nan"
   ]
  },
  {
   "cell_type": "code",
   "execution_count": 10,
   "metadata": {},
   "outputs": [
    {
     "name": "stdout",
     "output_type": "stream",
     "text": [
      "\\begin{tabular}{cccccccccc}\n",
      "\\toprule\n",
      "C & G & empty1 & full & simulate_100 & simulate_1000 & cdf & pdf & mult \\\\\n",
      "\\midrule\n",
      "2 & 2 &  & 0.012 & 0.012 & 0.012 & 0.013 & 0.014 & 0.011 \\\\\n",
      " & 3 &  & 0.015 & 0.019 & 0.015 & 0.016 & 0.016 & 0.015 \\\\\n",
      " & 4 &  & 0.018 & 0.031 & 0.019 & 0.019 & 0.019 & 0.018 \\\\\n",
      "3 & 2 &  & 0.011 & 0.012 & 0.011 & 0.013 & 0.011 & 0.010 \\\\\n",
      " & 3 &  & 0.014 & 0.032 & 0.016 & 0.016 & 0.015 & 0.014 \\\\\n",
      " & 4 &  & 0.018 & 0.048 & 0.026 & 0.020 & 0.018 & 0.018 \\\\\n",
      "5 & 2 &  & {-} & 0.014 & 0.009 & 0.010 & 0.009 & 0.008 \\\\\n",
      " & 3 &  & {-} & 0.034 & 0.020 & 0.015 & 0.014 & 0.014 \\\\\n",
      " & 4 &  & {-} & 0.042 & 0.031 & 0.015 & 0.014 & 0.014 \\\\\n",
      "10 & 2 &  & {-} & 0.016 & 0.009 & 0.009 & 0.008 & 0.006 \\\\\n",
      " & 3 &  & {-} & 0.026 & 0.022 & 0.010 & 0.009 & 0.009 \\\\\n",
      " & 4 &  & {-} & 0.032 & 0.027 & 0.013 & 0.013 & 0.012 \\\\\n",
      "\\bottomrule\n",
      "\\end{tabular}\n",
      "\n"
     ]
    }
   ],
   "source": [
    "# CG   \n",
    "\n",
    "# grab the average time with J,M,G,I as row and method as column\n",
    "df_error = df.groupby(['J','M','G','I','method']).mean().reset_index().pivot(index=['J','M','G','I'], columns='method', values='mean_error').reset_index()\n",
    "df_error[['J', 'M', 'G', 'I']] = df_error[['J', 'M', 'G', 'I']].astype(int)\n",
    "# \n",
    "# round to 4 decimals for methods\n",
    "df_error[method_order] = df_error[method_order].round(3)\n",
    "df_error[method_order] = df_error[method_order].applymap(lambda x: \"{:.3f}\".format(x))\n",
    "\n",
    "# add separator for thousands and put between brackets for those that have a comma\n",
    "df_error[method_order] = df_error[method_order].applymap(lambda x: f'{float(x):,.3f}' if float(x) >= 1000 else x) #.replace(',', ' ')\n",
    "\n",
    "# display floats with 3 decimals even if they are 0'seed\n",
    "\n",
    "# put numbers with commas between brackets\n",
    "# df_error[method_order] = df_error[method_order].applymap(lambda x: f'{{{x}}}' if ',' in x else x)\n",
    "\n",
    "# replace 'nan' with '-' \n",
    "df_error = df_error.replace('nan', '{-}')\n",
    "\n",
    "\n",
    "\n",
    "# reorder columns\n",
    "J = 100\n",
    "df_error_latex = pd.DataFrame()\n",
    "# change order of columns and use english notation\n",
    "df_error_latex[['C', 'G'] + method_order] = df_error.loc[df_error['J'] == J, ['I', 'G'] + method_order]\n",
    "# sort by C and G\n",
    "df_error_latex = df_error_latex.sort_values(['C', 'G'])\n",
    "\n",
    "\n",
    "df_error_latex.loc[df_error_latex['C'].duplicated(),['C']] = ''\n",
    "\n",
    "# add empty columns between 'C' and methods\n",
    "df_error_latex.insert(2, 'empty1', '')\n",
    "\n",
    "# transform to latex\n",
    "print(df_error_latex.to_latex(index=False, escape=False, column_format='cccccccccc', float_format=\":.%4f\"))\n",
    "\n",
    "# # replace I by C\n",
    "# df_error['C'] = df_time['I']"
   ]
  },
  {
   "cell_type": "code",
   "execution_count": 53,
   "metadata": {},
   "outputs": [
    {
     "name": "stdout",
     "output_type": "stream",
     "text": [
      "\\begin{tabular}{cccccccccc}\n",
      "\\toprule\n",
      "G & C & empty1 & full & simulate_1000 & simulate_100 & cdf & pdf & mult \\\\\n",
      "\\midrule\n",
      "2 & 2 &  & 0.011 & 0.011 & 0.011 & 0.011 & 0.011 & 0.011 \\\\\n",
      " & 3 &  & 0.010 & 0.010 & 0.011 & 0.010 & 0.010 & 0.010 \\\\\n",
      " & 5 &  & {-} & 0.009 & 0.012 & 0.008 & 0.009 & 0.009 \\\\\n",
      " & 10 &  & {-} & 0.007 & 0.012 & 0.006 & 0.007 & 0.006 \\\\\n",
      "3 & 2 &  & 0.014 & 0.014 & 0.016 & 0.014 & 0.014 & 0.015 \\\\\n",
      " & 3 &  & 0.014 & 0.015 & 0.025 & 0.014 & 0.014 & 0.015 \\\\\n",
      " & 5 &  & {-} & 0.016 & 0.025 & 0.013 & 0.013 & 0.013 \\\\\n",
      " & 10 &  & {-} & 0.015 & 0.020 & 0.009 & 0.009 & 0.009 \\\\\n",
      "4 & 2 &  & 0.017 & 0.018 & 0.025 & 0.017 & 0.017 & 0.018 \\\\\n",
      " & 3 &  & 0.017 & 0.020 & 0.034 & 0.017 & 0.017 & 0.017 \\\\\n",
      " & 5 &  & {-} & 0.022 & 0.032 & 0.014 & 0.014 & 0.014 \\\\\n",
      " & 10 &  & {-} & 0.020 & 0.024 & 0.012 & 0.012 & 0.012 \\\\\n",
      "\\bottomrule\n",
      "\\end{tabular}\n",
      "\n"
     ]
    }
   ],
   "source": [
    "# CG   \n",
    "\n",
    "# grab the average time with J,M,G,I as row and method as column\n",
    "df_error = df.groupby(['J','M','G','I','method']).mean().reset_index().pivot(index=['J','M','G','I'], columns='method', values='mean_error').reset_index()\n",
    "df_error[['J', 'M', 'G', 'I']] = df_error[['J', 'M', 'G', 'I']].astype(int)\n",
    "# \n",
    "# round to 4 decimals for methods\n",
    "df_error[method_order] = df_error[method_order].round(3)\n",
    "df_error[method_order] = df_error[method_order].applymap(lambda x: \"{:.3f}\".format(x))\n",
    "\n",
    "# add separator for thousands and put between brackets for those that have a comma\n",
    "df_error[method_order] = df_error[method_order].applymap(lambda x: f'{float(x):,.3f}' if float(x) >= 1000 else x) #.replace(',', ' ')\n",
    "\n",
    "# display floats with 3 decimals even if they are 0'seed\n",
    "\n",
    "# put numbers with commas between brackets\n",
    "# df_error[method_order] = df_error[method_order].applymap(lambda x: f'{{{x}}}' if ',' in x else x)\n",
    "\n",
    "# replace 'nan' with '-' \n",
    "df_error = df_error.replace('nan', '{-}')\n",
    "\n",
    "\n",
    "\n",
    "# reorder columns\n",
    "J = 100\n",
    "df_error_latex = pd.DataFrame()\n",
    "# change order of columns and use english notation\n",
    "df_error_latex[['G', 'C'] + method_order] = df_error.loc[df_error['J'] == 100, ['G', 'I'] + method_order]\n",
    "# sort by C and G\n",
    "df_error_latex = df_error_latex.sort_values(['G', 'C'])\n",
    "\n",
    "\n",
    "df_error_latex.loc[df_error_latex['G'].duplicated(),['G']] = ''\n",
    "\n",
    "# add empty columns between 'C' and methods\n",
    "df_error_latex.insert(2, 'empty1', '')\n",
    "\n",
    "# transform to latex\n",
    "print(df_error_latex.to_latex(index=False, escape=False, column_format='cccccccccc', float_format=\":.%4f\"))\n",
    "\n",
    "# # replace I by C\n",
    "# df_error['C'] = df_time['I']"
   ]
  },
  {
   "cell_type": "markdown",
   "metadata": {},
   "source": [
    "old\n"
   ]
  },
  {
   "cell_type": "code",
   "execution_count": 7,
   "metadata": {},
   "outputs": [
    {
     "name": "stdout",
     "output_type": "stream",
     "text": [
      "\\begin{tabular}{lccccccc}\n",
      "\\toprule\n",
      "(I,G,C,B) & full & simulate_1000 & simulate_100 & cdf & pdf & mult \\\\\n",
      "\\midrule\n",
      "$(100,2,2,50)$ & 14.51 & 0.471 & 0.466 & 0.851 & 0.14 & 0.003 \\\\\n",
      "$(100,2,3,50)$ & 549.902 & 4.865 & 1.603 & 3.604 & 0.217 & 0.003 \\\\\n",
      "$(100,2,5,50)$ & {-} & 17.752 & 1.882 & 12.315 & 0.173 & 0.003 \\\\\n",
      "$(100,2,10,50)$ & {-} & 15.861 & 1.624 & 61.702 & 0.181 & 0.003 \\\\\n",
      "$(100,3,2,50)$ & 34.235 & 6.427 & 1.9 & 1.99 & 0.208 & 0.004 \\\\\n",
      "$(100,3,3,50)$ & {2,115.5} & 24.081 & 2.019 & 11.373 & 0.265 & 0.004 \\\\\n",
      "$(100,3,5,50)$ & {-} & 23.091 & 1.801 & 41.609 & 0.279 & 0.005 \\\\\n",
      "$(100,3,10,50)$ & {-} & 18.532 & 1.612 & 210.639 & 0.221 & 0.004 \\\\\n",
      "$(100,4,2,50)$ & 51.563 & 20.827 & 2.408 & 3.421 & 0.233 & 0.003 \\\\\n",
      "$(100,4,3,50)$ & {2,808.304} & 25.409 & 2.515 & 15.927 & 0.32 & 0.005 \\\\\n",
      "$(100,4,5,50)$ & {-} & 22.102 & 2.047 & 47.176 & 0.281 & 0.004 \\\\\n",
      "$(100,4,10,50)$ & {-} & 22.014 & 1.701 & 355.949 & 0.308 & 0.004 \\\\\n",
      "$(200,2,2,50)$ & 59.634 & 0.919 & 0.82 & 1.385 & 0.176 & 0.003 \\\\\n",
      "$(200,2,3,50)$ & {3,440.538} & 12.359 & 1.855 & 6.076 & 0.22 & 0.003 \\\\\n",
      "$(200,2,5,50)$ & {-} & 18.157 & 1.627 & 19.955 & 0.208 & 0.003 \\\\\n",
      "$(200,2,10,50)$ & {-} & 15.595 & 1.515 & 111.144 & 0.233 & 0.002 \\\\\n",
      "$(200,3,2,50)$ & 100.076 & 14.155 & 2.295 & 2.469 & 0.242 & 0.004 \\\\\n",
      "$(200,3,3,50)$ & {3,097.177} & 18.29 & 1.881 & 12.326 & 0.249 & 0.004 \\\\\n",
      "$(200,3,5,50)$ & {-} & 9.111 & 2.196 & 42.57 & 0.265 & 0.003 \\\\\n",
      "$(200,3,10,50)$ & {-} & 8.404 & 1.474 & 204.632 & 0.266 & 0.003 \\\\\n",
      "$(200,4,2,50)$ & 188.472 & 12.015 & 2.522 & 3.62 & 0.25 & 0.005 \\\\\n",
      "$(200,4,3,50)$ & {2,437.547} & 24.347 & 2.331 & 17.31 & 0.318 & 0.005 \\\\\n",
      "$(200,4,5,50)$ & {-} & 23.535 & 1.929 & 58.629 & 0.303 & 0.005 \\\\\n",
      "$(200,4,10,50)$ & {-} & 18.743 & 1.479 & 327.127 & 0.334 & 0.004 \\\\\n",
      "\\bottomrule\n",
      "\\end{tabular}\n",
      "\n"
     ]
    }
   ],
   "source": [
    "# grab the average time with J,M,G,I as row and method as column\n",
    "df_time = df.groupby(['J','M','G','I','method']).mean().reset_index().pivot(index=['J','M','G','I'], columns='method', values='time').reset_index()\n",
    "df_time[['J', 'M', 'G', 'I']] = df_time[['J', 'M', 'G', 'I']].astype(int)\n",
    "\n",
    "\n",
    "\n",
    "# reorder columns\n",
    "df_time = df_time[['J','M','G','I'] + method_order]\n",
    "\n",
    "# apply transform_seconds_to_time to all columns except J,M,G,I\n",
    "# df_time[method_order] = df_time[method_order].applymap(transform_seconds_to_time)\n",
    "\n",
    "# filter only instances to use in order\n",
    "# df_time = df_time[df_time.apply(lambda x: (x['J'],x['M'],x['G'],x['I']) in instances_to_use, axis=1)]\n",
    "\n",
    "# get instance in only one column as a tuple with English notation J:I M:B G:G I:C\n",
    "df_time['(I,G,C,B)'] = df_time.apply(lambda x: f'$({int(x[0])},{int(x[2])},{int(x[3])},{int(x[1])})$', axis=1)\n",
    "\n",
    "df_time = df_time[['(I,G,C,B)'] + method_order]\n",
    "\n",
    "# round to 4 decimals for methods\n",
    "df_time[method_order] = df_time[method_order].round(3)\n",
    "\n",
    "# add separator for thousands and put between brackets for those that have a comma\n",
    "df_time[method_order] = df_time[method_order].applymap(lambda x: f'{x:,}') #.replace(',', ' ')\n",
    "\n",
    "# put numbers with commas between brackets\n",
    "df_time[method_order] = df_time[method_order].applymap(lambda x: f'{{{x}}}' if ',' in x else x)\n",
    "\n",
    "# replace 'nan' with '-' \n",
    "df_time = df_time.replace('nan', '{-}')\n",
    "\n",
    "\n",
    "\n",
    "# print to latex with the rounded decimals aligned by dot\n",
    "print(df_time.to_latex(index=False, escape=False, column_format='lccccccc', float_format=\"%.4f\"))"
   ]
  },
  {
   "cell_type": "code",
   "execution_count": null,
   "metadata": {},
   "outputs": [
    {
     "name": "stdout",
     "output_type": "stream",
     "text": [
      "\\begin{tabular}{lccccccc}\n",
      "\\toprule\n",
      "(I,B,G,C) & full & simulate_100 & simulate_1000 & cdf & pdf & mult \\\\\n",
      "\\midrule\n",
      "$(100,50,2,2)$ & 0.0103 & 0.0101 & 0.0103 & 0.0543 & 0.0101 & 0.0103 \\\\\n",
      "$(100,50,2,10)$ & 0.0452 & 0.0125 & 0.0080 & 0.0070 & 0.0090 & 0.0069 \\\\\n",
      "$(100,50,3,3)$ & 0.0134 & 0.0246 & 0.0146 & 0.0135 & 0.0134 & 0.0138 \\\\\n",
      "$(100,50,4,5)$ & 0.1038 & 0.0318 & 0.0231 & 0.0138 & 0.0138 & 0.0139 \\\\\n",
      "$(200,50,2,2)$ & 0.0075 & 0.0078 & 0.0075 & 0.1087 & 0.0073 & 0.0081 \\\\\n",
      "$(200,50,2,10)$ & 0.0452 & 0.0130 & 0.0084 & 0.0043 & 0.0053 & 0.0046 \\\\\n",
      "$(200,50,3,3)$ & 0.0685 & 0.0254 & 0.0125 & 0.0087 & 0.0085 & 0.0091 \\\\\n",
      "$(200,50,4,5)$ & 0.1038 & 0.0366 & 0.0263 & 0.0110 & 0.0109 & 0.0112 \\\\\n",
      "\\bottomrule\n",
      "\\end{tabular}\n",
      "\n"
     ]
    }
   ],
   "source": [
    "# grab the average time with J,M,G,I as row and method as column\n",
    "df_error = df.groupby(['J','M','G','I','method']).mean().reset_index().pivot(index=['J','M','G','I'], columns='method', values='mean_error').reset_index()\n",
    "df_error[['J', 'M', 'G', 'I']] = df_error[['J', 'M', 'G', 'I']].astype(int)\n",
    "\n",
    "# reorder columns\n",
    "df_error = df_error[['J','M','G','I'] + method_order]\n",
    "\n",
    "# apply transform_seconds_to_error to all columns except J,M,G,I\n",
    "# df_error[method_order] = df_error[method_order].applymap(transform_seconds_to_error)\n",
    "\n",
    "# filter only instances to use in order\n",
    "df_error = df_error[df_error.apply(lambda x: (x['J'],x['M'],x['G'],x['I']) in instances_to_use, axis=1)]\n",
    "\n",
    "# get instance in only one column as a tuple with English notation J:I M:B G:G I:C\n",
    "df_time['(I,G,C,B)'] = df_time.apply(lambda x: f'$({int(x[0])},{int(x[2])},{int(x[3])},{int(x[1])})$', axis=1)\n",
    "\n",
    "df_error = df_error[['(I,B,G,C)'] + method_order]\n",
    "\n",
    "# round to 4 decimals for methods\n",
    "df_error[method_order] = df_error[method_order].round(3)\n",
    "\n",
    "# add separator for thousands and put between brackets for those that have a comma\n",
    "df_error[method_order] = df_error[method_order].applymap(lambda x: f'{x:,}') #.replace(',', ' ')\n",
    "\n",
    "# put numbers with commas between brackets\n",
    "df_error[method_order] = df_error[method_order].applymap(lambda x: f'{{{x}}}' if ',' in x else x)\n",
    "\n",
    "# replace 0 with -\n",
    "df_error = df_error.replace('0.0', '{-}')\n",
    "\n",
    "\n",
    "# print to latex with the rounded decimals aligned by dot\n",
    "print(df_time.to_latex(index=False, escape=False, column_format='lccccccc', float_format=\"%.4f\"))"
   ]
  }
 ],
 "metadata": {
  "kernelspec": {
   "display_name": "Python 3",
   "language": "python",
   "name": "python3"
  },
  "language_info": {
   "codemirror_mode": {
    "name": "ipython",
    "version": 3
   },
   "file_extension": ".py",
   "mimetype": "text/x-python",
   "name": "python",
   "nbconvert_exporter": "python",
   "pygments_lexer": "ipython3",
   "version": "3.11.7"
  },
  "orig_nbformat": 4
 },
 "nbformat": 4,
 "nbformat_minor": 2
}
