{
 "cells": [
  {
   "cell_type": "code",
   "execution_count": 6,
   "metadata": {},
   "outputs": [],
   "source": [
    "import numpy as np\n",
    "import pickle\n",
    "import matplotlib.pyplot as plt\n",
    "import os\n",
    "import pandas as pd"
   ]
  },
  {
   "cell_type": "code",
   "execution_count": 7,
   "metadata": {},
   "outputs": [],
   "source": [
    "results_folder = \"results/\"\n",
    "\n",
    "J_list = [100] # personas\n",
    "M_list = [50] # mesas\n",
    "G_list = [2] # grupos\n",
    "I_list = [2] # candidatos \n",
    "lambda_list = [0.5]\n",
    "cv_list = [1000]\n",
    "seed_list = [i+1 for i in range(20)]\n",
    "# seed_list = [i+1 for i in range(20)]\n",
    "\n",
    "instances = []\n",
    "n_instances = len(J_list)*len(M_list)*len(G_list)*len(I_list)*len(seed_list)\n",
    "EM_method_names = [\"full\"]\n"
   ]
  },
  {
   "cell_type": "code",
   "execution_count": 8,
   "metadata": {},
   "outputs": [],
   "source": [
    "\n",
    "df_instances = []\n",
    "\n",
    "# read instances\n",
    "for J in J_list:\n",
    "    for M in M_list:\n",
    "        for G in G_list:\n",
    "            for I in I_list:\n",
    "                for lambda_ in lambda_list:\n",
    "                    for seed in seed_list:\n",
    "                        for cv in cv_list:\n",
    "                            for EM_method in EM_method_names:\n",
    "                                pickle_path = f'J{J}_M{M}_G{G}_I{I}_lambda{int(100*lambda_)}/{EM_method}_cv{cv}_convergence/{seed}.pickle'\n",
    "                                file_path = os.path.join(results_folder, pickle_path)\n",
    "                                if os.path.exists(file_path):\n",
    "                                    # read pickle\n",
    "                                    with open(file_path, 'rb') as handle:\n",
    "                                        instance = pickle.load(handle)\n",
    "                                    # print(instance)\n",
    "                                    p_est = instance['p_est']\n",
    "                                    df_instances.append([J,M,G,I,lambda_,seed,cv,EM_method,p_est])\n",
    "                        \n",
    "                                else:\n",
    "                                    print(\"File not found:\", file_path)\n",
    "                                    print(\"File path:\", file_path)\n",
    "                                    print(\"\")"
   ]
  },
  {
   "cell_type": "code",
   "execution_count": 9,
   "metadata": {},
   "outputs": [],
   "source": [
    "df_instances = pd.DataFrame(df_instances, columns=['J','M','G','I','lambda','seed','cv','EM_method','p_est'])\n",
    "\n",
    "# print all rows\n",
    "pd.set_option('display.max_rows', None)\n",
    "# df_instances"
   ]
  },
  {
   "cell_type": "code",
   "execution_count": 10,
   "metadata": {},
   "outputs": [],
   "source": [
    "J_list = [100] # personas\n",
    "M_list = [50] # mesas\n",
    "G_list = [2,3] # grupos\n",
    "I_list = [2,3] # candidatos \n",
    "lambda_list = [0.5]\n",
    "# cv_list = [1000, 10000]\n",
    "cv_list = [1000, 10000]\n",
    "seed_list = [i+1 for i in range(20)]\n",
    "# seed_list = [i+1 for i in range(20)]\n",
    "\n",
    "instances = []\n",
    "n_instances = len(J_list)*len(M_list)*len(G_list)*len(I_list)*len(seed_list)\n",
    "EM_method_names = [\"full\"]\n",
    "\n",
    "df_differences = []\n",
    "\n",
    "# read instances\n",
    "for J in J_list:\n",
    "    for M in M_list:\n",
    "        for G in G_list:\n",
    "            for I in I_list:\n",
    "                for lambda_ in lambda_list:\n",
    "                    for cv in cv_list:\n",
    "                        for seed1 in seed_list:\n",
    "                            for seed2 in seed_list[seed1:]:\n",
    "                                pickle_path1 = f'J{J}_M{M}_G{G}_I{I}_lambda{int(100*lambda_)}/full_cv{cv}_convergence/{seed1}.pickle'\n",
    "                                file_path1 = os.path.join(results_folder, pickle_path1)\n",
    "                                if os.path.exists(file_path1):\n",
    "                                    # read pickle\n",
    "                                    with open(file_path1, 'rb') as handle:\n",
    "                                        instance1 = pickle.load(handle)\n",
    "                                    # print(instance)\n",
    "                                    p_est1 = instance1['p_est']\n",
    "                                    X1 = instance1['X']\n",
    "                                else:\n",
    "                                    print(\"File not found:\", file_path)\n",
    "                                    print(\"File path:\", file_path)\n",
    "                                    print(\"\")\n",
    "                                # same for seed2\n",
    "                                pickle_path2 = f'J{J}_M{M}_G{G}_I{I}_lambda{int(100*lambda_)}/full_cv{cv}_convergence/{seed2}.pickle'\n",
    "                                file_path2 = os.path.join(results_folder, pickle_path2)\n",
    "                                if os.path.exists(file_path2):\n",
    "                                    # read pickle\n",
    "                                    with open(file_path2, 'rb') as handle:\n",
    "                                        instance2 = pickle.load(handle)\n",
    "                                    # print(instance)\n",
    "                                    p_est2 = instance2['p_est']\n",
    "                                    X2 = instance2['X']\n",
    "                                # dif_instance = np.max(np.abs(p_est1 - p_est2))\n",
    "                                dif_instance = np.mean(np.abs(p_est1 - p_est2))\n",
    "                                # frobenius norm\n",
    "                                # dif_instance = np.linalg.norm(p_est1 - p_est2)\n",
    "                                # print(seed1, seed2, dif_instance)\n",
    "                                # append the dif\n",
    "                                df_differences.append([J,M,G,I,lambda_,cv,seed1,seed2,dif_instance])\n",
    "                                # else:\n",
    "                                #     print(\"File not found:\", file_path)\n",
    "                                #     print(\"File path:\", file_path)\n",
    "                                #     print(\"\")\n",
    "\n",
    "df_differences = pd.DataFrame(df_differences, columns=['J','M','G','I','lambda','cv','seed1','seed2','dif_instance'])"
   ]
  },
  {
   "cell_type": "code",
   "execution_count": 11,
   "metadata": {},
   "outputs": [
    {
     "name": "stdout",
     "output_type": "stream",
     "text": [
      "\\begin{tabular}{llrrr}\n",
      "\\toprule\n",
      " &  & \\multicolumn{3}{r}{dif_instance} \\\\\n",
      " &  & mean & std & max \\\\\n",
      "G & I &  &  &  \\\\\n",
      "\\midrule\n",
      "\\multirow[t]{2}{*}{2} & 2 & 0.0022 & 0.0021 & 0.0059 \\\\\n",
      " & 3 & 0.0014 & 0.0009 & 0.0036 \\\\\n",
      "\\cline{1-5}\n",
      "\\multirow[t]{2}{*}{3} & 2 & 0.0019 & 0.0014 & 0.0045 \\\\\n",
      " & 3 & 0.0015 & 0.0007 & 0.0036 \\\\\n",
      "\\cline{1-5}\n",
      "\\bottomrule\n",
      "\\end{tabular}\n",
      "\n"
     ]
    }
   ],
   "source": [
    "# pasar a latex la tabla\n",
    "df_differences_latex = df_differences[df_differences['cv'] == 1000]\n",
    "df_differences_latex = df_differences[['G', 'I', 'dif_instance']]\n",
    "# round to 4 decimals latex\n",
    "print(df_differences_latex.groupby(['G','I']).agg(\n",
    "    ['mean', 'std', 'max'])[['dif_instance']].round(4).to_latex(\n",
    "        float_format=\"{:0.4f}\".format))"
   ]
  }
 ],
 "metadata": {
  "kernelspec": {
   "display_name": "Python 3",
   "language": "python",
   "name": "python3"
  },
  "language_info": {
   "codemirror_mode": {
    "name": "ipython",
    "version": 3
   },
   "file_extension": ".py",
   "mimetype": "text/x-python",
   "name": "python",
   "nbconvert_exporter": "python",
   "pygments_lexer": "ipython3",
   "version": "3.11.8"
  }
 },
 "nbformat": 4,
 "nbformat_minor": 2
}
